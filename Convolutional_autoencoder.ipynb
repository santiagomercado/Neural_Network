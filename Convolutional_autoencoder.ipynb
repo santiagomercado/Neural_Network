{
 "cells": [
  {
   "cell_type": "markdown",
   "metadata": {
    "id": "VUfawgv7T0CT"
   },
   "source": [
    "# Introduction"
   ]
  },
  {
   "cell_type": "markdown",
   "metadata": {
    "id": "X0M-6YwGT0CY"
   },
   "source": [
    "In this integrative work, we are going to propose a new implementation of an autoencoder to learn the MNIST database. We are going to mention the main reasons why we chose this model. We will detail what the topology of this new neural network is like and we will specify the chosen parameters that define how the learning stage will be carried out. We will continue to train the autoencoder and show relevant graphics such as Train Error vs. Test Error and Image Original vs. Reconstruction. Finally, we will make a comparison between this autoencoder and the one that was implemented in Practice 3 and we will make a conclusion about it."
   ]
  },
  {
   "cell_type": "markdown",
   "metadata": {
    "id": "tTmvEPNHT0Cb"
   },
   "source": [
    "# Previous Work"
   ]
  },
  {
   "cell_type": "markdown",
   "metadata": {
    "id": "8R7QkBI5T0Cd"
   },
   "source": [
    "Recall that in Practical 3 an autoencoder with a fully-connected hidden layer was implemented. The disadvantage of this architecture is that the input image must be converted to a one-dimensional vector. This alteration generates the loss of spatiality since each neuron of the hidden layer will be \"looking\" at all the pixels of the input image.\n",
    "This may be warning us that the topology of this neural network is not the most suitable for the processing and extraction of information from an image."
   ]
  },
  {
   "cell_type": "markdown",
   "metadata": {
    "id": "w6ZLNdEcT0Cg"
   },
   "source": [
    "# New Proposal"
   ]
  },
  {
   "cell_type": "markdown",
   "metadata": {
    "id": "Avc1NBlYT0Ch"
   },
   "source": [
    "Instead of using fully connected layers, we are going to use ***convolutional*** and ***pooling*** layers to reduce our input to an encoded representation. In this way, the image should no longer be converted to a one-dimensional vector and therefore the spatial information we continue to have.  \n",
    "We believe that this factor can help improve the task of learning the identity function."
   ]
  },
  {
   "cell_type": "code",
   "execution_count": 1,
   "metadata": {
    "executionInfo": {
     "elapsed": 4100,
     "status": "ok",
     "timestamp": 1608899043511,
     "user": {
      "displayName": "Santiago Mercado",
      "photoUrl": "",
      "userId": "11322818531078541648"
     },
     "user_tz": 180
    },
    "id": "X-mfZ1pjT0Ck"
   },
   "outputs": [],
   "source": [
    "import numpy as np\n",
    "import matplotlib.pyplot as plt\n",
    "import torch\n",
    "import torchvision\n",
    "from torchvision.utils import make_grid\n",
    "import torchvision.datasets as datasets\n",
    "from torch import nn"
   ]
  },
  {
   "cell_type": "code",
   "execution_count": 1,
   "metadata": {
    "executionInfo": {
     "elapsed": 4064,
     "status": "ok",
     "timestamp": 1608899043517,
     "user": {
      "displayName": "Santiago Mercado",
      "photoUrl": "",
      "userId": "11322818531078541648"
     },
     "user_tz": 180
    },
    "id": "QZLWkG-XCN9e"
   },
   "outputs": [],
   "source": [
    "from tqdm import tqdm"
   ]
  },
  {
   "cell_type": "code",
   "execution_count": 3,
   "metadata": {
    "colab": {
     "base_uri": "https://localhost:8080/"
    },
    "executionInfo": {
     "elapsed": 4047,
     "status": "ok",
     "timestamp": 1608899043520,
     "user": {
      "displayName": "Santiago Mercado",
      "photoUrl": "",
      "userId": "11322818531078541648"
     },
     "user_tz": 180
    },
    "id": "N8GoAcK0wzh5",
    "outputId": "f6831087-5073-4624-c76d-bc540d6e46a8"
   },
   "outputs": [
    {
     "name": "stdout",
     "output_type": "stream",
     "text": [
      "GPU\n"
     ]
    }
   ],
   "source": [
    "if torch.cuda.is_available():\n",
    "  device = torch.device(\"cuda:0\")\n",
    "  print(\"GPU\")\n",
    "else:\n",
    "  device = torch.device(\"cpu\")\n",
    "  print(\"CPU\")"
   ]
  },
  {
   "cell_type": "code",
   "execution_count": 5,
   "metadata": {
    "executionInfo": {
     "elapsed": 24760,
     "status": "ok",
     "timestamp": 1608899064273,
     "user": {
      "displayName": "Santiago Mercado",
      "photoUrl": "",
      "userId": "11322818531078541648"
     },
     "user_tz": 180
    },
    "id": "OiPF47UDT0Cm"
   },
   "outputs": [],
   "source": [
    "NUM_EPOCHS = 50\n",
    "LEARNING_RATE = 0.002\n",
    "BATCH_SIZE = 1000"
   ]
  },
  {
   "cell_type": "code",
   "execution_count": 6,
   "metadata": {
    "executionInfo": {
     "elapsed": 24755,
     "status": "ok",
     "timestamp": 1608899064276,
     "user": {
      "displayName": "Santiago Mercado",
      "photoUrl": "",
      "userId": "11322818531078541648"
     },
     "user_tz": 180
    },
    "id": "oQIxC4G3T0Cn"
   },
   "outputs": [],
   "source": [
    "random_seed = 1\n",
    "torch.manual_seed(random_seed)\n",
    "\n",
    "transform = torchvision.transforms.Compose([\n",
    "                               torchvision.transforms.ToTensor(),\n",
    "                               torchvision.transforms.Normalize((0.1307,), (0.3081,))])"
   ]
  },
  {
   "cell_type": "code",
   "execution_count": 7,
   "metadata": {
    "colab": {
     "base_uri": "https://localhost:8080/",
     "height": 441,
     "referenced_widgets": [
      "aec4f89419bd4f01a4c628e4af2413d9",
      "458e9c05e6644b8daf2a7758b502fffe",
      "9c1f7ecb63a6439cb0726fbc622df897",
      "12207ae1a28e441fb5ac010f12ccf2de",
      "dee84c5da77b42f6958fb7cac303b964",
      "a03471a9e51a4b9bbe100bdd0548d80b",
      "f64394635408493a9262a71beb6ca5e1",
      "061694cc19104d91af9376056bed1ac3",
      "5ca53a3a773548f48b0a9fcf9218678f",
      "642fc1ebd8244dd5981f6e732559a035",
      "3497bd0394314212bf9e01b7125cbe5a",
      "3f43bcf75a4d4631b37a4d2b4b7016a6",
      "9897667559964165957c92603410d4e9",
      "5bdb38d8864b477c8647c1ada09b3f30",
      "807202f1fa8f42afb879f97843df2985",
      "6f3e1d0333d646fb9c403b6ebaa8723e",
      "31f2880bb3744a95b214981356680520",
      "ddf2d94e14dc44a5ab1c0d3ec5306eaa",
      "1fbb7347e85d41de8b424f5d68beebe6",
      "8370545865c8423e8f0b1dde74a0c34e",
      "b481c656cf7c419baced31fa7329d3de",
      "ba25fee48b48485289a0d47422602a91",
      "9311288fccd7428998535508ef120956",
      "360c44a676dc44b38665297e9e58981b",
      "452b1f7dba874e17a189237a882ff1ee",
      "cff0a764bdea4572b4b5aa4ca3cc6609",
      "17d7fa81cff74bd19b4f57f6ebfc87f0",
      "91372ca4456747079bb1bbd552ee7400",
      "3fec850afcde44a0be6e8c6e4b06759f",
      "4893df12c09a4f39b2881ef10292d0e4",
      "b74e385b7920416a9267fdc81f34d770",
      "918e6fe0dcad47f6a923a3283dd2c440"
     ]
    },
    "executionInfo": {
     "elapsed": 27792,
     "status": "ok",
     "timestamp": 1608899067318,
     "user": {
      "displayName": "Santiago Mercado",
      "photoUrl": "",
      "userId": "11322818531078541648"
     },
     "user_tz": 180
    },
    "id": "8rx_andvT0Cp",
    "outputId": "dde068d4-9972-44b9-a7b1-38825352b797"
   },
   "outputs": [
    {
     "name": "stdout",
     "output_type": "stream",
     "text": [
      "Downloading http://yann.lecun.com/exdb/mnist/train-images-idx3-ubyte.gz to ./data/MNIST/raw/train-images-idx3-ubyte.gz\n"
     ]
    },
    {
     "data": {
      "application/vnd.jupyter.widget-view+json": {
       "model_id": "aec4f89419bd4f01a4c628e4af2413d9",
       "version_major": 2,
       "version_minor": 0
      },
      "text/plain": [
       "HBox(children=(FloatProgress(value=1.0, bar_style='info', max=1.0), HTML(value='')))"
      ]
     },
     "metadata": {
      "tags": []
     },
     "output_type": "display_data"
    },
    {
     "name": "stdout",
     "output_type": "stream",
     "text": [
      "Extracting ./data/MNIST/raw/train-images-idx3-ubyte.gz to ./data/MNIST/raw\n",
      "Downloading http://yann.lecun.com/exdb/mnist/train-labels-idx1-ubyte.gz to ./data/MNIST/raw/train-labels-idx1-ubyte.gz\n"
     ]
    },
    {
     "data": {
      "application/vnd.jupyter.widget-view+json": {
       "model_id": "5ca53a3a773548f48b0a9fcf9218678f",
       "version_major": 2,
       "version_minor": 0
      },
      "text/plain": [
       "HBox(children=(FloatProgress(value=1.0, bar_style='info', max=1.0), HTML(value='')))"
      ]
     },
     "metadata": {
      "tags": []
     },
     "output_type": "display_data"
    },
    {
     "name": "stdout",
     "output_type": "stream",
     "text": [
      "Extracting ./data/MNIST/raw/train-labels-idx1-ubyte.gz to ./data/MNIST/raw\n",
      "Downloading http://yann.lecun.com/exdb/mnist/t10k-images-idx3-ubyte.gz to ./data/MNIST/raw/t10k-images-idx3-ubyte.gz\n"
     ]
    },
    {
     "data": {
      "application/vnd.jupyter.widget-view+json": {
       "model_id": "31f2880bb3744a95b214981356680520",
       "version_major": 2,
       "version_minor": 0
      },
      "text/plain": [
       "HBox(children=(FloatProgress(value=1.0, bar_style='info', max=1.0), HTML(value='')))"
      ]
     },
     "metadata": {
      "tags": []
     },
     "output_type": "display_data"
    },
    {
     "name": "stdout",
     "output_type": "stream",
     "text": [
      "Extracting ./data/MNIST/raw/t10k-images-idx3-ubyte.gz to ./data/MNIST/raw\n",
      "Downloading http://yann.lecun.com/exdb/mnist/t10k-labels-idx1-ubyte.gz to ./data/MNIST/raw/t10k-labels-idx1-ubyte.gz\n"
     ]
    },
    {
     "data": {
      "application/vnd.jupyter.widget-view+json": {
       "model_id": "452b1f7dba874e17a189237a882ff1ee",
       "version_major": 2,
       "version_minor": 0
      },
      "text/plain": [
       "HBox(children=(FloatProgress(value=1.0, bar_style='info', max=1.0), HTML(value='')))"
      ]
     },
     "metadata": {
      "tags": []
     },
     "output_type": "display_data"
    },
    {
     "name": "stdout",
     "output_type": "stream",
     "text": [
      "Extracting ./data/MNIST/raw/t10k-labels-idx1-ubyte.gz to ./data/MNIST/raw\n",
      "Processing...\n",
      "Done!\n",
      "\n",
      "\n",
      "\n"
     ]
    },
    {
     "name": "stderr",
     "output_type": "stream",
     "text": [
      "/usr/local/lib/python3.6/dist-packages/torchvision/datasets/mnist.py:480: UserWarning: The given NumPy array is not writeable, and PyTorch does not support non-writeable tensors. This means you can write to the underlying (supposedly non-writeable) NumPy array using the tensor. You may want to copy the array to protect its data or make it writeable before converting it to a tensor. This type of warning will be suppressed for the rest of this program. (Triggered internally at  /pytorch/torch/csrc/utils/tensor_numpy.cpp:141.)\n",
      "  return torch.from_numpy(parsed.astype(m[2], copy=False)).view(*s)\n"
     ]
    }
   ],
   "source": [
    "mnist_data = datasets.MNIST(\n",
    "    './data',\n",
    "    train=True,\n",
    "    download=True,\n",
    "    transform=transform\n",
    ")\n",
    "\n",
    "mnist_test = datasets.MNIST(\n",
    "    './data',\n",
    "    train=False,\n",
    "    download=True,\n",
    "    transform=transform\n",
    ")\n",
    "\n",
    "train_loader = torch.utils.data.DataLoader(\n",
    "    mnist_data,\n",
    "    batch_size=BATCH_SIZE,\n",
    "    shuffle=True\n",
    ")\n",
    "\n",
    "test_loader = torch.utils.data.DataLoader(\n",
    "    mnist_test,\n",
    "    batch_size=BATCH_SIZE,\n",
    "    shuffle=True\n",
    ")"
   ]
  },
  {
   "cell_type": "markdown",
   "metadata": {
    "id": "vN39DgTwT0Cr"
   },
   "source": [
    "## Convolutional Autoencoder"
   ]
  },
  {
   "cell_type": "markdown",
   "metadata": {
    "id": "Lb55oc0GT0Ct"
   },
   "source": [
    "The proposed autoencoder implements two convolutional layers hidden in the encoder part. The first convolutional layer consists of 32 3x3 filters, while the second has 64 3x3 filters.  \n",
    "Below is a diagram that describes the different transformations that the autoencoder performs from the original image."
   ]
  },
  {
   "cell_type": "markdown",
   "metadata": {
    "id": "uDI_w2AbT0Cv"
   },
   "source": [
    "![convnet_plot](convnet_plot.png)"
   ]
  },
  {
   "cell_type": "markdown",
   "metadata": {
    "id": "yY2nJ6slT0Cv"
   },
   "source": [
    "Below is an example of how the operation that generates the increase in dimensionality (Upsampling) in the decoder part works:"
   ]
  },
  {
   "cell_type": "code",
   "execution_count": 8,
   "metadata": {
    "colab": {
     "base_uri": "https://localhost:8080/"
    },
    "executionInfo": {
     "elapsed": 27787,
     "status": "ok",
     "timestamp": 1608899067320,
     "user": {
      "displayName": "Santiago Mercado",
      "photoUrl": "",
      "userId": "11322818531078541648"
     },
     "user_tz": 180
    },
    "id": "qFKB5hjXT0Cw",
    "outputId": "7ea206dd-2951-4b7b-8dce-07c41abc4e7d"
   },
   "outputs": [
    {
     "name": "stdout",
     "output_type": "stream",
     "text": [
      "tensor([[[[1., 2., 3.],\n",
      "          [4., 5., 6.],\n",
      "          [7., 8., 9.]]]])\n",
      "tensor([[[[1.0000, 1.4000, 1.8000, 2.2000, 2.6000, 3.0000],\n",
      "          [2.2000, 2.6000, 3.0000, 3.4000, 3.8000, 4.2000],\n",
      "          [3.4000, 3.8000, 4.2000, 4.6000, 5.0000, 5.4000],\n",
      "          [4.6000, 5.0000, 5.4000, 5.8000, 6.2000, 6.6000],\n",
      "          [5.8000, 6.2000, 6.6000, 7.0000, 7.4000, 7.8000],\n",
      "          [7.0000, 7.4000, 7.8000, 8.2000, 8.6000, 9.0000]]]])\n"
     ]
    }
   ],
   "source": [
    "A = torch.tensor([[[[1.,2.,3.],[4.,5.,6.],[7.,8.,9.]]]])\n",
    "print(A)\n",
    "B = nn.functional.interpolate(A, scale_factor=2, align_corners=True, mode='bilinear')\n",
    "print(B)"
   ]
  },
  {
   "cell_type": "markdown",
   "metadata": {
    "id": "-lZCmwBsT0Cx"
   },
   "source": [
    "Doing bilinear interpolation is equivalent to first doing linear interpolation on one dimension and then on the other."
   ]
  },
  {
   "cell_type": "markdown",
   "metadata": {
    "id": "PXB2LwBjT0Cx"
   },
   "source": [
    "$$\n",
    "\\begin{equation*}\n",
    "y = y_1 + (x-x_1)\\frac{y_2 - y_1}{x_2 - x_1}\n",
    "\\quad\\quad\\quad \\text{(Linear interpolation)}\n",
    "\\end{equation*}\n",
    "$$"
   ]
  },
  {
   "cell_type": "markdown",
   "metadata": {
    "id": "GsgZaVuIT0Cy"
   },
   "source": [
    "***The following code defines the architecture of the autoencoder***"
   ]
  },
  {
   "cell_type": "code",
   "execution_count": 9,
   "metadata": {
    "executionInfo": {
     "elapsed": 27782,
     "status": "ok",
     "timestamp": 1608899067322,
     "user": {
      "displayName": "Santiago Mercado",
      "photoUrl": "",
      "userId": "11322818531078541648"
     },
     "user_tz": 180
    },
    "id": "SZDY-zIET0Cy"
   },
   "outputs": [],
   "source": [
    "class Autoencoder(nn.Module):\n",
    "\n",
    "    def __init__(self):\n",
    "        super(Autoencoder, self).__init__()\n",
    "\n",
    "        # conv layer (depth from 1 --> 32), 3x3 kernels\n",
    "        self.enconv1 = nn.Conv2d(1, 32, 3, padding=1)\n",
    "        \n",
    "        # conv layer (depth from 32 --> 64), 3x3 kernels\n",
    "        self.enconv2 = nn.Conv2d(32, 64, 3, padding=1)\n",
    "        \n",
    "                       \n",
    "        # pooling layer to reduce x-y dims by two; kernel\n",
    "        # and stride of 2\n",
    "        self.pool = nn.MaxPool2d(2, stride=2)     \n",
    "        \n",
    "        # conv layer (depth from 64 --> 32), 3x3 kernels\n",
    "        self.deconv1 = nn.Conv2d(64, 32, 3, padding=1)\n",
    "        \n",
    "        # conv layer (depth from 32 --> 1), 3x3 kernels\n",
    "        self.deconv2 = nn.Conv2d(32, 1, 3, padding=1)\n",
    "        \n",
    "        # activation function\n",
    "        self.relu = nn.ReLU()\n",
    "\n",
    "    def forward(self, x):\n",
    "        \n",
    "        # ENCODER\n",
    "        # image dimension -> (1,28,28)\n",
    "        x = self.enconv1(x)\n",
    "        x = self.relu(x)\n",
    "        # (32,28,28)\n",
    "        x = nn.MaxPool2d(2, stride=2)(x)\n",
    "        # (32,14,14)\n",
    "        x = self.enconv2(x)\n",
    "        x = self.relu(x)\n",
    "        # (64,14,14)\n",
    "        x = self.pool(x)\n",
    "        # (64,7,7)\n",
    "        \n",
    "        # DECODER\n",
    "        x = nn.functional.interpolate(x, scale_factor=2, align_corners=True, mode='bilinear')\n",
    "        # (64,14,14)\n",
    "        x = self.deconv1(x)\n",
    "        x = self.relu(x)\n",
    "        # (32,14,14)\n",
    "        x = nn.functional.interpolate(x, scale_factor=2, align_corners=True, mode='bilinear')\n",
    "        # (32,28,28)\n",
    "        x = self.deconv2(x)\n",
    "        # (1,28,28)\n",
    "        x = self.relu(x)\n",
    "        \n",
    "        return x"
   ]
  },
  {
   "cell_type": "markdown",
   "metadata": {
    "id": "F4G83na8T0C0"
   },
   "source": [
    "## Parameters"
   ]
  },
  {
   "cell_type": "markdown",
   "metadata": {
    "id": "hx0FcbsLT0C0"
   },
   "source": [
    "For the training of this network we will use:\n",
    "* $50$ Epochs.\n",
    "* Learning rate de $0.002$\n",
    "* Batch size de $1000$"
   ]
  },
  {
   "cell_type": "markdown",
   "metadata": {
    "id": "EodohBLHT0C0"
   },
   "source": [
    "## Cost function and optimizer"
   ]
  },
  {
   "cell_type": "markdown",
   "metadata": {
    "id": "dzOmXnOAT0C0"
   },
   "source": [
    "For this autoencoder, the Mean Square Error (MSE) function is used as a cost function."
   ]
  },
  {
   "cell_type": "markdown",
   "metadata": {
    "id": "CxCfUTi6T0C1"
   },
   "source": [
    "$$Error(x,\\hat{x}) = \\frac{1}{N}\\sum_{i=0}^{N}{(x - \\hat{x})^2}$$"
   ]
  },
  {
   "cell_type": "markdown",
   "metadata": {
    "id": "FYPYazUtT0C2"
   },
   "source": [
    "On the other hand, the Adaptive Moment Estimation (Adam) variant of stochastic gradient descent (SGD) was used as optimizer."
   ]
  },
  {
   "cell_type": "code",
   "execution_count": 10,
   "metadata": {
    "executionInfo": {
     "elapsed": 38204,
     "status": "ok",
     "timestamp": 1608899077748,
     "user": {
      "displayName": "Santiago Mercado",
      "photoUrl": "",
      "userId": "11322818531078541648"
     },
     "user_tz": 180
    },
    "id": "P5KILGF_T0C3"
   },
   "outputs": [],
   "source": [
    "model = Autoencoder().to(device)"
   ]
  },
  {
   "cell_type": "code",
   "execution_count": 11,
   "metadata": {
    "executionInfo": {
     "elapsed": 38206,
     "status": "ok",
     "timestamp": 1608899077757,
     "user": {
      "displayName": "Santiago Mercado",
      "photoUrl": "",
      "userId": "11322818531078541648"
     },
     "user_tz": 180
    },
    "id": "Qizf6eTNT0C3"
   },
   "outputs": [],
   "source": [
    "criterion = nn.MSELoss()"
   ]
  },
  {
   "cell_type": "code",
   "execution_count": 12,
   "metadata": {
    "executionInfo": {
     "elapsed": 38205,
     "status": "ok",
     "timestamp": 1608899077761,
     "user": {
      "displayName": "Santiago Mercado",
      "photoUrl": "",
      "userId": "11322818531078541648"
     },
     "user_tz": 180
    },
    "id": "6CV10qBxT0C4"
   },
   "outputs": [],
   "source": [
    "optimizer = torch.optim.Adam(model.parameters(),lr=LEARNING_RATE)"
   ]
  },
  {
   "cell_type": "code",
   "execution_count": 13,
   "metadata": {
    "colab": {
     "base_uri": "https://localhost:8080/"
    },
    "executionInfo": {
     "elapsed": 902168,
     "status": "ok",
     "timestamp": 1608899941731,
     "user": {
      "displayName": "Santiago Mercado",
      "photoUrl": "",
      "userId": "11322818531078541648"
     },
     "user_tz": 180
    },
    "id": "SPOuVZAPT0C4",
    "outputId": "5622fa22-ce34-485c-a464-fe23abaf0c19"
   },
   "outputs": [
    {
     "name": "stderr",
     "output_type": "stream",
     "text": [
      "  2%|▏         | 1/50 [00:17<14:19, 17.53s/it]"
     ]
    },
    {
     "name": "stdout",
     "output_type": "stream",
     "text": [
      "epoch = 00, train_loss = 4.876e-01, test_loss = 3.673e-01\n"
     ]
    },
    {
     "name": "stderr",
     "output_type": "stream",
     "text": [
      "\r",
      "  4%|▍         | 2/50 [00:34<13:59, 17.48s/it]"
     ]
    },
    {
     "name": "stdout",
     "output_type": "stream",
     "text": [
      "epoch = 01, train_loss = 3.384e-01, test_loss = 3.505e-01\n"
     ]
    },
    {
     "name": "stderr",
     "output_type": "stream",
     "text": [
      "\r",
      "  6%|▌         | 3/50 [00:52<13:40, 17.45s/it]"
     ]
    },
    {
     "name": "stdout",
     "output_type": "stream",
     "text": [
      "epoch = 02, train_loss = 3.027e-01, test_loss = 2.850e-01\n"
     ]
    },
    {
     "name": "stderr",
     "output_type": "stream",
     "text": [
      "\r",
      "  8%|▊         | 4/50 [01:09<13:20, 17.41s/it]"
     ]
    },
    {
     "name": "stdout",
     "output_type": "stream",
     "text": [
      "epoch = 03, train_loss = 2.821e-01, test_loss = 2.743e-01\n"
     ]
    },
    {
     "name": "stderr",
     "output_type": "stream",
     "text": [
      "\r",
      " 10%|█         | 5/50 [01:26<13:01, 17.37s/it]"
     ]
    },
    {
     "name": "stdout",
     "output_type": "stream",
     "text": [
      "epoch = 04, train_loss = 2.708e-01, test_loss = 2.613e-01\n"
     ]
    },
    {
     "name": "stderr",
     "output_type": "stream",
     "text": [
      "\r",
      " 12%|█▏        | 6/50 [01:44<12:43, 17.35s/it]"
     ]
    },
    {
     "name": "stdout",
     "output_type": "stream",
     "text": [
      "epoch = 05, train_loss = 2.636e-01, test_loss = 2.592e-01\n"
     ]
    },
    {
     "name": "stderr",
     "output_type": "stream",
     "text": [
      "\r",
      " 14%|█▍        | 7/50 [02:01<12:25, 17.33s/it]"
     ]
    },
    {
     "name": "stdout",
     "output_type": "stream",
     "text": [
      "epoch = 06, train_loss = 2.562e-01, test_loss = 2.533e-01\n"
     ]
    },
    {
     "name": "stderr",
     "output_type": "stream",
     "text": [
      "\r",
      " 16%|█▌        | 8/50 [02:18<12:07, 17.33s/it]"
     ]
    },
    {
     "name": "stdout",
     "output_type": "stream",
     "text": [
      "epoch = 07, train_loss = 2.520e-01, test_loss = 2.457e-01\n"
     ]
    },
    {
     "name": "stderr",
     "output_type": "stream",
     "text": [
      "\r",
      " 18%|█▊        | 9/50 [02:36<11:50, 17.33s/it]"
     ]
    },
    {
     "name": "stdout",
     "output_type": "stream",
     "text": [
      "epoch = 08, train_loss = 2.485e-01, test_loss = 2.418e-01\n"
     ]
    },
    {
     "name": "stderr",
     "output_type": "stream",
     "text": [
      "\r",
      " 20%|██        | 10/50 [02:53<11:34, 17.37s/it]"
     ]
    },
    {
     "name": "stdout",
     "output_type": "stream",
     "text": [
      "epoch = 09, train_loss = 2.420e-01, test_loss = 2.370e-01\n"
     ]
    },
    {
     "name": "stderr",
     "output_type": "stream",
     "text": [
      "\r",
      " 22%|██▏       | 11/50 [03:10<11:16, 17.34s/it]"
     ]
    },
    {
     "name": "stdout",
     "output_type": "stream",
     "text": [
      "epoch = 10, train_loss = 2.402e-01, test_loss = 2.339e-01\n"
     ]
    },
    {
     "name": "stderr",
     "output_type": "stream",
     "text": [
      "\r",
      " 24%|██▍       | 12/50 [03:28<10:58, 17.34s/it]"
     ]
    },
    {
     "name": "stdout",
     "output_type": "stream",
     "text": [
      "epoch = 11, train_loss = 2.359e-01, test_loss = 2.310e-01\n"
     ]
    },
    {
     "name": "stderr",
     "output_type": "stream",
     "text": [
      "\r",
      " 26%|██▌       | 13/50 [03:45<10:41, 17.34s/it]"
     ]
    },
    {
     "name": "stdout",
     "output_type": "stream",
     "text": [
      "epoch = 12, train_loss = 2.342e-01, test_loss = 2.286e-01\n"
     ]
    },
    {
     "name": "stderr",
     "output_type": "stream",
     "text": [
      "\r",
      " 28%|██▊       | 14/50 [04:03<10:26, 17.40s/it]"
     ]
    },
    {
     "name": "stdout",
     "output_type": "stream",
     "text": [
      "epoch = 13, train_loss = 2.307e-01, test_loss = 2.292e-01\n"
     ]
    },
    {
     "name": "stderr",
     "output_type": "stream",
     "text": [
      "\r",
      " 30%|███       | 15/50 [04:20<10:08, 17.37s/it]"
     ]
    },
    {
     "name": "stdout",
     "output_type": "stream",
     "text": [
      "epoch = 14, train_loss = 2.283e-01, test_loss = 2.272e-01\n"
     ]
    },
    {
     "name": "stderr",
     "output_type": "stream",
     "text": [
      "\r",
      " 32%|███▏      | 16/50 [04:37<09:50, 17.37s/it]"
     ]
    },
    {
     "name": "stdout",
     "output_type": "stream",
     "text": [
      "epoch = 15, train_loss = 2.295e-01, test_loss = 2.225e-01\n"
     ]
    },
    {
     "name": "stderr",
     "output_type": "stream",
     "text": [
      "\r",
      " 34%|███▍      | 17/50 [04:55<09:33, 17.37s/it]"
     ]
    },
    {
     "name": "stdout",
     "output_type": "stream",
     "text": [
      "epoch = 16, train_loss = 2.239e-01, test_loss = 2.207e-01\n"
     ]
    },
    {
     "name": "stderr",
     "output_type": "stream",
     "text": [
      "\r",
      " 36%|███▌      | 18/50 [05:12<09:14, 17.33s/it]"
     ]
    },
    {
     "name": "stdout",
     "output_type": "stream",
     "text": [
      "epoch = 17, train_loss = 2.234e-01, test_loss = 2.213e-01\n"
     ]
    },
    {
     "name": "stderr",
     "output_type": "stream",
     "text": [
      "\r",
      " 38%|███▊      | 19/50 [05:29<08:57, 17.35s/it]"
     ]
    },
    {
     "name": "stdout",
     "output_type": "stream",
     "text": [
      "epoch = 18, train_loss = 2.213e-01, test_loss = 2.178e-01\n"
     ]
    },
    {
     "name": "stderr",
     "output_type": "stream",
     "text": [
      "\r",
      " 40%|████      | 20/50 [05:47<08:40, 17.35s/it]"
     ]
    },
    {
     "name": "stdout",
     "output_type": "stream",
     "text": [
      "epoch = 19, train_loss = 2.197e-01, test_loss = 2.171e-01\n"
     ]
    },
    {
     "name": "stderr",
     "output_type": "stream",
     "text": [
      "\r",
      " 42%|████▏     | 21/50 [06:04<08:23, 17.35s/it]"
     ]
    },
    {
     "name": "stdout",
     "output_type": "stream",
     "text": [
      "epoch = 20, train_loss = 2.193e-01, test_loss = 2.178e-01\n"
     ]
    },
    {
     "name": "stderr",
     "output_type": "stream",
     "text": [
      "\r",
      " 44%|████▍     | 22/50 [06:21<08:04, 17.31s/it]"
     ]
    },
    {
     "name": "stdout",
     "output_type": "stream",
     "text": [
      "epoch = 21, train_loss = 2.174e-01, test_loss = 2.136e-01\n"
     ]
    },
    {
     "name": "stderr",
     "output_type": "stream",
     "text": [
      "\r",
      " 46%|████▌     | 23/50 [06:38<07:46, 17.29s/it]"
     ]
    },
    {
     "name": "stdout",
     "output_type": "stream",
     "text": [
      "epoch = 22, train_loss = 2.159e-01, test_loss = 2.143e-01\n"
     ]
    },
    {
     "name": "stderr",
     "output_type": "stream",
     "text": [
      "\r",
      " 48%|████▊     | 24/50 [06:56<07:29, 17.29s/it]"
     ]
    },
    {
     "name": "stdout",
     "output_type": "stream",
     "text": [
      "epoch = 23, train_loss = 2.149e-01, test_loss = 2.157e-01\n"
     ]
    },
    {
     "name": "stderr",
     "output_type": "stream",
     "text": [
      "\r",
      " 50%|█████     | 25/50 [07:13<07:11, 17.26s/it]"
     ]
    },
    {
     "name": "stdout",
     "output_type": "stream",
     "text": [
      "epoch = 24, train_loss = 2.137e-01, test_loss = 2.122e-01\n"
     ]
    },
    {
     "name": "stderr",
     "output_type": "stream",
     "text": [
      "\r",
      " 52%|█████▏    | 26/50 [07:30<06:54, 17.25s/it]"
     ]
    },
    {
     "name": "stdout",
     "output_type": "stream",
     "text": [
      "epoch = 25, train_loss = 2.127e-01, test_loss = 2.119e-01\n"
     ]
    },
    {
     "name": "stderr",
     "output_type": "stream",
     "text": [
      "\r",
      " 54%|█████▍    | 27/50 [07:47<06:36, 17.25s/it]"
     ]
    },
    {
     "name": "stdout",
     "output_type": "stream",
     "text": [
      "epoch = 26, train_loss = 2.118e-01, test_loss = 2.109e-01\n"
     ]
    },
    {
     "name": "stderr",
     "output_type": "stream",
     "text": [
      "\r",
      " 56%|█████▌    | 28/50 [08:05<06:19, 17.26s/it]"
     ]
    },
    {
     "name": "stdout",
     "output_type": "stream",
     "text": [
      "epoch = 27, train_loss = 2.113e-01, test_loss = 2.085e-01\n"
     ]
    },
    {
     "name": "stderr",
     "output_type": "stream",
     "text": [
      "\r",
      " 58%|█████▊    | 29/50 [08:22<06:02, 17.26s/it]"
     ]
    },
    {
     "name": "stdout",
     "output_type": "stream",
     "text": [
      "epoch = 28, train_loss = 2.099e-01, test_loss = 2.073e-01\n"
     ]
    },
    {
     "name": "stderr",
     "output_type": "stream",
     "text": [
      "\r",
      " 60%|██████    | 30/50 [08:39<05:45, 17.27s/it]"
     ]
    },
    {
     "name": "stdout",
     "output_type": "stream",
     "text": [
      "epoch = 29, train_loss = 2.097e-01, test_loss = 2.065e-01\n"
     ]
    },
    {
     "name": "stderr",
     "output_type": "stream",
     "text": [
      "\r",
      " 62%|██████▏   | 31/50 [08:56<05:27, 17.25s/it]"
     ]
    },
    {
     "name": "stdout",
     "output_type": "stream",
     "text": [
      "epoch = 30, train_loss = 2.081e-01, test_loss = 2.059e-01\n"
     ]
    },
    {
     "name": "stderr",
     "output_type": "stream",
     "text": [
      "\r",
      " 64%|██████▍   | 32/50 [09:14<05:11, 17.29s/it]"
     ]
    },
    {
     "name": "stdout",
     "output_type": "stream",
     "text": [
      "epoch = 31, train_loss = 2.107e-01, test_loss = 2.058e-01\n"
     ]
    },
    {
     "name": "stderr",
     "output_type": "stream",
     "text": [
      "\r",
      " 66%|██████▌   | 33/50 [09:31<04:53, 17.27s/it]"
     ]
    },
    {
     "name": "stdout",
     "output_type": "stream",
     "text": [
      "epoch = 32, train_loss = 2.067e-01, test_loss = 2.044e-01\n"
     ]
    },
    {
     "name": "stderr",
     "output_type": "stream",
     "text": [
      "\r",
      " 68%|██████▊   | 34/50 [09:48<04:35, 17.23s/it]"
     ]
    },
    {
     "name": "stdout",
     "output_type": "stream",
     "text": [
      "epoch = 33, train_loss = 2.058e-01, test_loss = 2.045e-01\n"
     ]
    },
    {
     "name": "stderr",
     "output_type": "stream",
     "text": [
      "\r",
      " 70%|███████   | 35/50 [10:05<04:17, 17.18s/it]"
     ]
    },
    {
     "name": "stdout",
     "output_type": "stream",
     "text": [
      "epoch = 34, train_loss = 2.057e-01, test_loss = 2.049e-01\n"
     ]
    },
    {
     "name": "stderr",
     "output_type": "stream",
     "text": [
      "\r",
      " 72%|███████▏  | 36/50 [10:22<04:00, 17.16s/it]"
     ]
    },
    {
     "name": "stdout",
     "output_type": "stream",
     "text": [
      "epoch = 35, train_loss = 2.053e-01, test_loss = 2.029e-01\n"
     ]
    },
    {
     "name": "stderr",
     "output_type": "stream",
     "text": [
      "\r",
      " 74%|███████▍  | 37/50 [10:39<03:42, 17.14s/it]"
     ]
    },
    {
     "name": "stdout",
     "output_type": "stream",
     "text": [
      "epoch = 36, train_loss = 2.046e-01, test_loss = 2.023e-01\n"
     ]
    },
    {
     "name": "stderr",
     "output_type": "stream",
     "text": [
      "\r",
      " 76%|███████▌  | 38/50 [10:57<03:25, 17.15s/it]"
     ]
    },
    {
     "name": "stdout",
     "output_type": "stream",
     "text": [
      "epoch = 37, train_loss = 2.040e-01, test_loss = 2.034e-01\n"
     ]
    },
    {
     "name": "stderr",
     "output_type": "stream",
     "text": [
      "\r",
      " 78%|███████▊  | 39/50 [11:14<03:08, 17.15s/it]"
     ]
    },
    {
     "name": "stdout",
     "output_type": "stream",
     "text": [
      "epoch = 38, train_loss = 2.039e-01, test_loss = 2.019e-01\n"
     ]
    },
    {
     "name": "stderr",
     "output_type": "stream",
     "text": [
      "\r",
      " 80%|████████  | 40/50 [11:31<02:51, 17.13s/it]"
     ]
    },
    {
     "name": "stdout",
     "output_type": "stream",
     "text": [
      "epoch = 39, train_loss = 2.030e-01, test_loss = 2.006e-01\n"
     ]
    },
    {
     "name": "stderr",
     "output_type": "stream",
     "text": [
      "\r",
      " 82%|████████▏ | 41/50 [11:48<02:34, 17.12s/it]"
     ]
    },
    {
     "name": "stdout",
     "output_type": "stream",
     "text": [
      "epoch = 40, train_loss = 2.028e-01, test_loss = 2.006e-01\n"
     ]
    },
    {
     "name": "stderr",
     "output_type": "stream",
     "text": [
      "\r",
      " 84%|████████▍ | 42/50 [12:05<02:17, 17.18s/it]"
     ]
    },
    {
     "name": "stdout",
     "output_type": "stream",
     "text": [
      "epoch = 41, train_loss = 2.024e-01, test_loss = 1.997e-01\n"
     ]
    },
    {
     "name": "stderr",
     "output_type": "stream",
     "text": [
      "\r",
      " 86%|████████▌ | 43/50 [12:22<02:00, 17.20s/it]"
     ]
    },
    {
     "name": "stdout",
     "output_type": "stream",
     "text": [
      "epoch = 42, train_loss = 2.033e-01, test_loss = 2.018e-01\n"
     ]
    },
    {
     "name": "stderr",
     "output_type": "stream",
     "text": [
      "\r",
      " 88%|████████▊ | 44/50 [12:40<01:43, 17.17s/it]"
     ]
    },
    {
     "name": "stdout",
     "output_type": "stream",
     "text": [
      "epoch = 43, train_loss = 2.015e-01, test_loss = 1.990e-01\n"
     ]
    },
    {
     "name": "stderr",
     "output_type": "stream",
     "text": [
      "\r",
      " 90%|█████████ | 45/50 [12:57<01:25, 17.19s/it]"
     ]
    },
    {
     "name": "stdout",
     "output_type": "stream",
     "text": [
      "epoch = 44, train_loss = 2.005e-01, test_loss = 2.000e-01\n"
     ]
    },
    {
     "name": "stderr",
     "output_type": "stream",
     "text": [
      "\r",
      " 92%|█████████▏| 46/50 [13:14<01:08, 17.19s/it]"
     ]
    },
    {
     "name": "stdout",
     "output_type": "stream",
     "text": [
      "epoch = 45, train_loss = 2.007e-01, test_loss = 1.989e-01\n"
     ]
    },
    {
     "name": "stderr",
     "output_type": "stream",
     "text": [
      "\r",
      " 94%|█████████▍| 47/50 [13:31<00:51, 17.22s/it]"
     ]
    },
    {
     "name": "stdout",
     "output_type": "stream",
     "text": [
      "epoch = 46, train_loss = 2.001e-01, test_loss = 1.981e-01\n"
     ]
    },
    {
     "name": "stderr",
     "output_type": "stream",
     "text": [
      "\r",
      " 96%|█████████▌| 48/50 [13:49<00:34, 17.23s/it]"
     ]
    },
    {
     "name": "stdout",
     "output_type": "stream",
     "text": [
      "epoch = 47, train_loss = 1.992e-01, test_loss = 1.982e-01\n"
     ]
    },
    {
     "name": "stderr",
     "output_type": "stream",
     "text": [
      "\r",
      " 98%|█████████▊| 49/50 [14:06<00:17, 17.23s/it]"
     ]
    },
    {
     "name": "stdout",
     "output_type": "stream",
     "text": [
      "epoch = 48, train_loss = 1.995e-01, test_loss = 1.973e-01\n"
     ]
    },
    {
     "name": "stderr",
     "output_type": "stream",
     "text": [
      "100%|██████████| 50/50 [14:23<00:00, 17.27s/it]"
     ]
    },
    {
     "name": "stdout",
     "output_type": "stream",
     "text": [
      "epoch = 49, train_loss = 1.994e-01, test_loss = 1.974e-01\n"
     ]
    },
    {
     "name": "stderr",
     "output_type": "stream",
     "text": [
      "\n"
     ]
    }
   ],
   "source": [
    "train_loss = []\n",
    "test_loss = []\n",
    "\n",
    "for epoch in tqdm(range(NUM_EPOCHS)):\n",
    "\n",
    "    # set the model in train mode   \n",
    "    model.train()\n",
    "    running_loss = 0.\n",
    "    \n",
    "    for data in train_loader:\n",
    "        img, _ = data\n",
    "        img = img.to(device)\n",
    "        # set the gradients to zero\n",
    "        optimizer.zero_grad()\n",
    "        # feed the model with a batch of images\n",
    "        outputs = model(img)\n",
    "        # calculates the loss between output and input\n",
    "        loss = criterion(outputs, img)\n",
    "        # accumulates the gradient\n",
    "        loss.backward()\n",
    "        # parameters update\n",
    "        optimizer.step()\n",
    "        \n",
    "        # accumulates the loss\n",
    "        running_loss += loss.item()\n",
    "    \n",
    "    #computes the avg loss of the epoch (loss_0 + loss_1 + ... + loss_(n-1))/n\n",
    "    train_loss.append(running_loss / len(train_loader))\n",
    "    \n",
    "    # set the model in evaluation mode\n",
    "    model.eval()\n",
    "    running_loss = 0.\n",
    "    \n",
    "    with torch.no_grad():\n",
    "        for data in test_loader:\n",
    "            img,_ = data\n",
    "            img = img.to(device)\n",
    "            outputs = model(img)\n",
    "            loss = criterion(outputs, img)\n",
    "            \n",
    "            running_loss += loss.item()\n",
    "        \n",
    "        test_loss.append(running_loss / len(test_loader))\n",
    "    \n",
    "    print(\"epoch = {:02d}, train_loss = {:.3e}, test_loss = {:.3e}\".format(epoch, train_loss[-1], test_loss[-1]))"
   ]
  },
  {
   "cell_type": "markdown",
   "metadata": {
    "id": "Svjmp5axT0C4"
   },
   "source": [
    "## Results"
   ]
  },
  {
   "cell_type": "markdown",
   "metadata": {
    "id": "W9MqTv1AT0C5"
   },
   "source": [
    "### Training error vs. test error"
   ]
  },
  {
   "cell_type": "markdown",
   "metadata": {
    "id": "WjaPcTAXT0C5"
   },
   "source": [
    "The training error and the test error are shown below in the same graph."
   ]
  },
  {
   "cell_type": "code",
   "execution_count": 14,
   "metadata": {
    "colab": {
     "base_uri": "https://localhost:8080/",
     "height": 336
    },
    "executionInfo": {
     "elapsed": 902471,
     "status": "ok",
     "timestamp": 1608899942047,
     "user": {
      "displayName": "Santiago Mercado",
      "photoUrl": "",
      "userId": "11322818531078541648"
     },
     "user_tz": 180
    },
    "id": "6_ytXTUdT0C5",
    "outputId": "85a1ff66-e686-4c27-d014-50b37b8fc02b"
   },
   "outputs": [
    {
     "data": {
      "image/png": "[encoded data removed]",
      "text/plain": [
       "<Figure size 1080x360 with 1 Axes>"
      ]
     },
     "metadata": {
      "needs_background": "light",
      "tags": []
     },
     "output_type": "display_data"
    }
   ],
   "source": [
    "epochs = [i for i in range(1,NUM_EPOCHS+1)]\n",
    "\n",
    "fig, ax = plt.subplots(figsize=(15,5))\n",
    "ax.set_xlabel('Epochs')\n",
    "ax.set_ylabel('Error')\n",
    "\n",
    "ax.plot(epochs, train_loss, label='Training')\n",
    "ax.plot(epochs, test_loss, label='Test')\n",
    "\n",
    "ax.legend()\n",
    "plt.show()"
   ]
  },
  {
   "cell_type": "markdown",
   "metadata": {
    "id": "Z70T_4MFT0C8"
   },
   "source": [
    "We can see that the training error decreases monotonously as the epochs progress. From the graph of these curves, we can see that the model is learning correctly. There is no evidence that the network is over-fitting."
   ]
  },
  {
   "cell_type": "markdown",
   "metadata": {
    "id": "hF1eSxwwT0C9"
   },
   "source": [
    "### Original image vs. Reconstruction"
   ]
  },
  {
   "cell_type": "markdown",
   "metadata": {
    "id": "HGwh28TlT0C_"
   },
   "source": [
    "Below we will show examples of the test set with their respective reconstructions. This allows us to see if the neural network is learning the identity function."
   ]
  },
  {
   "cell_type": "code",
   "execution_count": 15,
   "metadata": {
    "colab": {
     "base_uri": "https://localhost:8080/",
     "height": 17
    },
    "executionInfo": {
     "elapsed": 902480,
     "status": "ok",
     "timestamp": 1608899942072,
     "user": {
      "displayName": "Santiago Mercado",
      "photoUrl": "",
      "userId": "11322818531078541648"
     },
     "user_tz": 180
    },
    "id": "BWWzY2C5T0C_",
    "outputId": "8ae24791-d98e-42d9-bb59-62ad9bb879ac"
   },
   "outputs": [
    {
     "data": {
      "text/html": [
       "\n",
       "<style>\n",
       ".output_png {\n",
       "    display: table-cell;\n",
       "    text-align: center;\n",
       "    vertical-align: middle;\n",
       "}\n",
       "</style>\n"
      ],
      "text/plain": [
       "<IPython.core.display.HTML object>"
      ]
     },
     "execution_count": 15,
     "metadata": {
      "tags": []
     },
     "output_type": "execute_result"
    }
   ],
   "source": [
    "from IPython.core.display import HTML\n",
    "HTML(\"\"\"\n",
    "<style>\n",
    ".output_png {\n",
    "    display: table-cell;\n",
    "    text-align: center;\n",
    "    vertical-align: middle;\n",
    "}\n",
    "</style>\n",
    "\"\"\")"
   ]
  },
  {
   "cell_type": "code",
   "execution_count": 16,
   "metadata": {
    "colab": {
     "base_uri": "https://localhost:8080/",
     "height": 590
    },
    "executionInfo": {
     "elapsed": 903141,
     "status": "ok",
     "timestamp": 1608899942746,
     "user": {
      "displayName": "Santiago Mercado",
      "photoUrl": "",
      "userId": "11322818531078541648"
     },
     "user_tz": 180
    },
    "id": "6A1hbrd3T0DA",
    "outputId": "52eae3f9-ef5d-436e-943e-b2625075a894",
    "scrolled": true
   },
   "outputs": [
    {
     "data": {
      "image/png": "[encoded data removed]",
      "text/plain": [
       "<Figure size 720x720 with 20 Axes>"
      ]
     },
     "metadata": {
      "needs_background": "light",
      "tags": []
     },
     "output_type": "display_data"
    }
   ],
   "source": [
    "model.eval()\n",
    "\n",
    "fig, ax = plt.subplots(10, 2, figsize=(10, 10))\n",
    "\n",
    "# j = idx[i] => given the digit i(=0,1,...,9)\n",
    "#               j will have position where that digit is in the dataset\n",
    "idx = [3,2,1,18,4,8,11,0,61,7]\n",
    "\n",
    "for i,j in enumerate(idx):\n",
    "    img = mnist_test[j][0]\n",
    "    output = model(img.view(1,1,28,28).to(device))\n",
    "    ax[i][0].imshow(img.squeeze(),cmap='gray')\n",
    "    ax[i][1].imshow(output.cpu().detach().squeeze(),cmap='gray')\n",
    "    ax[i][0].axis('off');ax[i][1].axis('off')\n",
    "ax[0][0].set_title(\"Original Image\")\n",
    "ax[0][1].set_title(\"Reconstruction\")\n",
    "\n",
    "plt.show()"
   ]
  },
  {
   "cell_type": "markdown",
   "metadata": {
    "id": "_Moos63yhTqw"
   },
   "source": [
    "On the left column, we can see a sample of each digit extracted from the test set. In the right column, we have the corresponding reconstruction of each digit."
   ]
  },
  {
   "cell_type": "markdown",
   "metadata": {
    "id": "IQ0NSZT5T0DF"
   },
   "source": [
    "# Comparison "
   ]
  },
  {
   "cell_type": "markdown",
   "metadata": {
    "id": "RcWnK92oL836"
   },
   "source": [
    "An important aspect to take into account is the number of learnable parameters that each of the models has. The fully-connected autoencoder with 512 neurons in the hidden layer has 804112 trainable parameters, while the convolutional autoencoder has 37569."
   ]
  },
  {
   "cell_type": "code",
   "execution_count": 18,
   "metadata": {
    "executionInfo": {
     "elapsed": 905152,
     "status": "ok",
     "timestamp": 1608899944773,
     "user": {
      "displayName": "Santiago Mercado",
      "photoUrl": "",
      "userId": "11322818531078541648"
     },
     "user_tz": 180
    },
    "id": "LTb0gJRApcWv"
   },
   "outputs": [],
   "source": [
    "# load the train and test error values recorded when the fully-connected \n",
    "# autoencoder was trained in Practial 3\n",
    "# both have 50 values recorded\n",
    "train_error_512 = np.load(\n",
    "    \"./AE_fully_connected_512/train_error_512.npz\")['arr_0']\n",
    "test_error_512 = np.load(\n",
    "    \"./AE_fully_connected_512/test_error_512.npz\")['arr_0']"
   ]
  },
  {
   "cell_type": "markdown",
   "metadata": {
    "id": "xXMs34_aXzap"
   },
   "source": [
    "The following graph allows us to compare the training error of the convolutional autoencoder with the training error of the fully-connected autoencoder."
   ]
  },
  {
   "cell_type": "code",
   "execution_count": 19,
   "metadata": {
    "colab": {
     "base_uri": "https://localhost:8080/",
     "height": 282
    },
    "executionInfo": {
     "elapsed": 905148,
     "status": "ok",
     "timestamp": 1608899944779,
     "user": {
      "displayName": "Santiago Mercado",
      "photoUrl": "",
      "userId": "11322818531078541648"
     },
     "user_tz": 180
    },
    "id": "HZlCpGUXT0DI",
    "outputId": "5ac5ba64-9d3f-4ec1-837b-0970589938bf"
   },
   "outputs": [
    {
     "data": {
      "image/png": "[encoded data removed]",
      "text/plain": [
       "<Figure size 1080x288 with 1 Axes>"
      ]
     },
     "metadata": {
      "needs_background": "light",
      "tags": []
     },
     "output_type": "display_data"
    }
   ],
   "source": [
    "epochs = [i for i in range(1,NUM_EPOCHS+1)]\n",
    "\n",
    "fig, ax = plt.subplots(figsize=(15,4))\n",
    "ax.set_xlabel('Epochs')\n",
    "ax.set_ylabel('Train Error')\n",
    "ax.plot(epochs, train_loss, label='Conv')\n",
    "ax.plot(epochs, train_error_512, linestyle='--', label='FC')\n",
    "ax.legend()\n",
    "\n",
    "plt.show()"
   ]
  },
  {
   "cell_type": "markdown",
   "metadata": {
    "id": "llYAqT5oZyNM"
   },
   "source": [
    "The next image allows making the same comparison as the previous one but for the error of the test set."
   ]
  },
  {
   "cell_type": "code",
   "execution_count": 20,
   "metadata": {
    "colab": {
     "base_uri": "https://localhost:8080/",
     "height": 282
    },
    "executionInfo": {
     "elapsed": 905448,
     "status": "ok",
     "timestamp": 1608899945094,
     "user": {
      "displayName": "Santiago Mercado",
      "photoUrl": "",
      "userId": "11322818531078541648"
     },
     "user_tz": 180
    },
    "id": "3VYwB-4Bg_Uj",
    "outputId": "1e4f2168-e2dc-4660-d93d-561c9c68daf9"
   },
   "outputs": [
    {
     "data": {
      "image/png": "[encoded data removed]",
      "text/plain": [
       "<Figure size 1080x288 with 1 Axes>"
      ]
     },
     "metadata": {
      "needs_background": "light",
      "tags": []
     },
     "output_type": "display_data"
    }
   ],
   "source": [
    "epochs = [i for i in range(1,NUM_EPOCHS+1)]\n",
    "\n",
    "fig, ax = plt.subplots(figsize=(15,4))\n",
    "\n",
    "ax.set_xlabel('Epochs')\n",
    "ax.set_ylabel('Test Error')\n",
    "ax.plot(epochs, test_loss, label='Conv')\n",
    "ax.plot(epochs, test_error_512, linestyle='--', label='FC')\n",
    "ax.legend()\n",
    "\n",
    "plt.show()"
   ]
  },
  {
   "cell_type": "code",
   "execution_count": 21,
   "metadata": {
    "executionInfo": {
     "elapsed": 905447,
     "status": "ok",
     "timestamp": 1608899945100,
     "user": {
      "displayName": "Santiago Mercado",
      "photoUrl": "",
      "userId": "11322818531078541648"
     },
     "user_tz": 180
    },
    "id": "X3NmvekLT0DJ"
   },
   "outputs": [],
   "source": [
    "# autoencoder that implements one hidden fully-connected layer with 512 neurons\n",
    "class AE(nn.Module):\n",
    "    def __init__(self,hide_layer_size):\n",
    "        super(AE, self).__init__()\n",
    "        \n",
    "        #encoder\n",
    "        self.enc1 = nn.Linear(in_features=784, out_features=hide_layer_size)\n",
    "        \n",
    "        #decoder\n",
    "        self.dec1 = nn.Linear(in_features=hide_layer_size, out_features=784)\n",
    "        \n",
    "        #activation function\n",
    "        self.relu = nn.ReLU()\n",
    "        \n",
    "        #dropout\n",
    "        self.dropout = nn.Dropout(p=0.1)\n",
    "        \n",
    "    def forward(self, x):\n",
    "        x = self.dropout(x)\n",
    "        x = self.enc1(x)\n",
    "        x = self.relu(x)\n",
    "        \n",
    "        x = self.dropout(x)\n",
    "        x = self.dec1(x)\n",
    "        x = self.relu(x)\n",
    "        return x"
   ]
  },
  {
   "cell_type": "code",
   "execution_count": 22,
   "metadata": {
    "colab": {
     "base_uri": "https://localhost:8080/"
    },
    "executionInfo": {
     "elapsed": 906340,
     "status": "ok",
     "timestamp": 1608899945997,
     "user": {
      "displayName": "Santiago Mercado",
      "photoUrl": "",
      "userId": "11322818531078541648"
     },
     "user_tz": 180
    },
    "id": "uhELzDOhT0DK",
    "outputId": "e40f8e2c-e6d5-4f23-80d9-97e87c23af69"
   },
   "outputs": [
    {
     "data": {
      "text/plain": [
       "<All keys matched successfully>"
      ]
     },
     "execution_count": 22,
     "metadata": {
      "tags": []
     },
     "output_type": "execute_result"
    }
   ],
   "source": [
    "# Load trained model from the last Project\n",
    "autoencoder_512 = AE(512)\n",
    "if torch.cuda.is_available():\n",
    "    autoencoder_512.load_state_dict(torch.load(\n",
    "        './AE_fully_connected_512/autoencoder_512.pth'))\n",
    "else:\n",
    "    autoencoder_512.load_state_dict(torch.load(\n",
    "        './AE_fully_connected_512/autoencoder_512.pth',\n",
    "        map_location=torch.device('cpu')))"
   ]
  },
  {
   "cell_type": "markdown",
   "metadata": {
    "id": "pQxBpMNg4obL"
   },
   "source": [
    "Now we are going to randomly extract digits from the test set and generate two reconstructions, one made by the convolutional autoencoder and the other by the fully-connected autoencoder."
   ]
  },
  {
   "cell_type": "code",
   "execution_count": 23,
   "metadata": {
    "executionInfo": {
     "elapsed": 906339,
     "status": "ok",
     "timestamp": 1608899946002,
     "user": {
      "displayName": "Santiago Mercado",
      "photoUrl": "",
      "userId": "11322818531078541648"
     },
     "user_tz": 180
    },
    "id": "97ZB4N9cv8Ut"
   },
   "outputs": [],
   "source": [
    "# get n samples in batch format img[:n].shape = (n,1,28,28)\n",
    "def image_sample(data_loader, n):\n",
    "    for img,_ in data_loader:\n",
    "        return img[:n]\n",
    "\n",
    "# evaluate the convolutional network \n",
    "# with img where img.shape = (m,1,28,28)\n",
    "def eval_c(net, img):\n",
    "    net.eval()\n",
    "    net.to(device)\n",
    "    \n",
    "    img = img.to(device)\n",
    "    output = net(img)\n",
    "    return output.data\n",
    "\n",
    "# evaluate the fully-connected network\n",
    "def eval_fc(net, img):\n",
    "    net.eval()\n",
    "    net.to(device)\n",
    "    \n",
    "    img = img.to(device)\n",
    "    output = net(img.view(img.size(0), -1))\n",
    "    return output.view(output.size(0), 1, 28, 28).data\n",
    "\n",
    "# generate image grid from a batch\n",
    "def image_grid(img):\n",
    "    return make_grid(img, padding=0)[0]"
   ]
  },
  {
   "cell_type": "code",
   "execution_count": 24,
   "metadata": {
    "colab": {
     "base_uri": "https://localhost:8080/",
     "height": 584
    },
    "executionInfo": {
     "elapsed": 907875,
     "status": "ok",
     "timestamp": 1608899947548,
     "user": {
      "displayName": "Santiago Mercado",
      "photoUrl": "",
      "userId": "11322818531078541648"
     },
     "user_tz": 180
    },
    "id": "ivdKCKGPT0DM",
    "outputId": "30b5dade-e388-46f3-d82c-0fa5df2fc274"
   },
   "outputs": [
    {
     "data": {
      "image/png": "[encoded data removed]",
      "text/plain": [
       "<Figure size 1080x720 with 9 Axes>"
      ]
     },
     "metadata": {
      "needs_background": "light",
      "tags": []
     },
     "output_type": "display_data"
    }
   ],
   "source": [
    "rows = 3\n",
    "fig, ax = plt.subplots(rows, 3, figsize=(15, 10))\n",
    "\n",
    "for i in range(rows):\n",
    "    img = image_sample(test_loader, 40)\n",
    "    rec_c, rec_fc = eval_c(model,img), eval_fc(autoencoder_512, img)\n",
    "    ax[i][0].imshow(image_grid(img),cmap='gray')\n",
    "    ax[i][0].axis('off')\n",
    "\n",
    "    ax[i][1].imshow(image_grid(rec_c).cpu(),cmap='gray')\n",
    "    ax[i][1].axis('off')\n",
    "\n",
    "    ax[i][2].imshow(image_grid(rec_fc).cpu(),cmap='gray')\n",
    "    ax[i][2].axis('off')\n",
    "\n",
    "ax[0][0].set_title('Original')\n",
    "ax[0][1].set_title('Convolutional Reconstruction')\n",
    "ax[0][2].set_title('Fully-Connected Reconstruction')\n",
    "\n",
    "plt.show()"
   ]
  },
  {
   "cell_type": "markdown",
   "metadata": {
    "id": "ypO6UdFP6XNA"
   },
   "source": [
    "It can be noticed that some digits reconstructed by the convolutional autoencoder appear slightly more blurred than those generated by the fully-connected autoencoder."
   ]
  },
  {
   "cell_type": "markdown",
   "metadata": {
    "id": "-KNU6vw18SDw"
   },
   "source": [
    "# Conclusions"
   ]
  },
  {
   "cell_type": "markdown",
   "metadata": {
    "id": "aiQ4sceT8Xzd"
   },
   "source": [
    "Based on what was previously shown, we can say that a neural network model was presented with a much smaller number of trainable parameters than the fully-connected autoencoder, obtaining very similar results in the image reconstruction task. The topology of this new neural network allows extracting information from images in a more efficient and adequate way."
   ]
  }
 ],
 "metadata": {
  "accelerator": "GPU",
  "colab": {
   "collapsed_sections": [],
   "name": "Trabajo_Integrador.ipynb",
   "provenance": []
  },
  "kernelspec": {
   "display_name": "Python 3",
   "language": "python",
   "name": "python3"
  },
  "language_info": {
   "codemirror_mode": {
    "name": "ipython",
    "version": 3
   },
   "file_extension": ".py",
   "mimetype": "text/x-python",
   "name": "python",
   "nbconvert_exporter": "python",
   "pygments_lexer": "ipython3",
   "version": "3.8.3"
  },
  "widgets": {
   "application/vnd.jupyter.widget-state+json": {
    "061694cc19104d91af9376056bed1ac3": {
     "model_module": "@jupyter-widgets/base",
     "model_name": "LayoutModel",
     "state": {
      "_model_module": "@jupyter-widgets/base",
      "_model_module_version": "1.2.0",
      "_model_name": "LayoutModel",
      "_view_count": null,
      "_view_module": "@jupyter-widgets/base",
      "_view_module_version": "1.2.0",
      "_view_name": "LayoutView",
      "align_content": null,
      "align_items": null,
      "align_self": null,
      "border": null,
      "bottom": null,
      "display": null,
      "flex": null,
      "flex_flow": null,
      "grid_area": null,
      "grid_auto_columns": null,
      "grid_auto_flow": null,
      "grid_auto_rows": null,
      "grid_column": null,
      "grid_gap": null,
      "grid_row": null,
      "grid_template_areas": null,
      "grid_template_columns": null,
      "grid_template_rows": null,
      "height": null,
      "justify_content": null,
      "justify_items": null,
      "left": null,
      "margin": null,
      "max_height": null,
      "max_width": null,
      "min_height": null,
      "min_width": null,
      "object_fit": null,
      "object_position": null,
      "order": null,
      "overflow": null,
      "overflow_x": null,
      "overflow_y": null,
      "padding": null,
      "right": null,
      "top": null,
      "visibility": null,
      "width": null
     }
    },
    "12207ae1a28e441fb5ac010f12ccf2de": {
     "model_module": "@jupyter-widgets/controls",
     "model_name": "HTMLModel",
     "state": {
      "_dom_classes": [],
      "_model_module": "@jupyter-widgets/controls",
      "_model_module_version": "1.5.0",
      "_model_name": "HTMLModel",
      "_view_count": null,
      "_view_module": "@jupyter-widgets/controls",
      "_view_module_version": "1.5.0",
      "_view_name": "HTMLView",
      "description": "",
      "description_tooltip": null,
      "layout": "IPY_MODEL_061694cc19104d91af9376056bed1ac3",
      "placeholder": "​",
      "style": "IPY_MODEL_f64394635408493a9262a71beb6ca5e1",
      "value": " 9920512/? [00:20&lt;00:00, 1471542.81it/s]"
     }
    },
    "17d7fa81cff74bd19b4f57f6ebfc87f0": {
     "model_module": "@jupyter-widgets/controls",
     "model_name": "FloatProgressModel",
     "state": {
      "_dom_classes": [],
      "_model_module": "@jupyter-widgets/controls",
      "_model_module_version": "1.5.0",
      "_model_name": "FloatProgressModel",
      "_view_count": null,
      "_view_module": "@jupyter-widgets/controls",
      "_view_module_version": "1.5.0",
      "_view_name": "ProgressView",
      "bar_style": "success",
      "description": "",
      "description_tooltip": null,
      "layout": "IPY_MODEL_4893df12c09a4f39b2881ef10292d0e4",
      "max": 1,
      "min": 0,
      "orientation": "horizontal",
      "style": "IPY_MODEL_3fec850afcde44a0be6e8c6e4b06759f",
      "value": 1
     }
    },
    "1fbb7347e85d41de8b424f5d68beebe6": {
     "model_module": "@jupyter-widgets/controls",
     "model_name": "FloatProgressModel",
     "state": {
      "_dom_classes": [],
      "_model_module": "@jupyter-widgets/controls",
      "_model_module_version": "1.5.0",
      "_model_name": "FloatProgressModel",
      "_view_count": null,
      "_view_module": "@jupyter-widgets/controls",
      "_view_module_version": "1.5.0",
      "_view_name": "ProgressView",
      "bar_style": "success",
      "description": "",
      "description_tooltip": null,
      "layout": "IPY_MODEL_ba25fee48b48485289a0d47422602a91",
      "max": 1,
      "min": 0,
      "orientation": "horizontal",
      "style": "IPY_MODEL_b481c656cf7c419baced31fa7329d3de",
      "value": 1
     }
    },
    "31f2880bb3744a95b214981356680520": {
     "model_module": "@jupyter-widgets/controls",
     "model_name": "HBoxModel",
     "state": {
      "_dom_classes": [],
      "_model_module": "@jupyter-widgets/controls",
      "_model_module_version": "1.5.0",
      "_model_name": "HBoxModel",
      "_view_count": null,
      "_view_module": "@jupyter-widgets/controls",
      "_view_module_version": "1.5.0",
      "_view_name": "HBoxView",
      "box_style": "",
      "children": [
       "IPY_MODEL_1fbb7347e85d41de8b424f5d68beebe6",
       "IPY_MODEL_8370545865c8423e8f0b1dde74a0c34e"
      ],
      "layout": "IPY_MODEL_ddf2d94e14dc44a5ab1c0d3ec5306eaa"
     }
    },
    "3497bd0394314212bf9e01b7125cbe5a": {
     "model_module": "@jupyter-widgets/controls",
     "model_name": "FloatProgressModel",
     "state": {
      "_dom_classes": [],
      "_model_module": "@jupyter-widgets/controls",
      "_model_module_version": "1.5.0",
      "_model_name": "FloatProgressModel",
      "_view_count": null,
      "_view_module": "@jupyter-widgets/controls",
      "_view_module_version": "1.5.0",
      "_view_name": "ProgressView",
      "bar_style": "success",
      "description": "",
      "description_tooltip": null,
      "layout": "IPY_MODEL_5bdb38d8864b477c8647c1ada09b3f30",
      "max": 1,
      "min": 0,
      "orientation": "horizontal",
      "style": "IPY_MODEL_9897667559964165957c92603410d4e9",
      "value": 1
     }
    },
    "360c44a676dc44b38665297e9e58981b": {
     "model_module": "@jupyter-widgets/base",
     "model_name": "LayoutModel",
     "state": {
      "_model_module": "@jupyter-widgets/base",
      "_model_module_version": "1.2.0",
      "_model_name": "LayoutModel",
      "_view_count": null,
      "_view_module": "@jupyter-widgets/base",
      "_view_module_version": "1.2.0",
      "_view_name": "LayoutView",
      "align_content": null,
      "align_items": null,
      "align_self": null,
      "border": null,
      "bottom": null,
      "display": null,
      "flex": null,
      "flex_flow": null,
      "grid_area": null,
      "grid_auto_columns": null,
      "grid_auto_flow": null,
      "grid_auto_rows": null,
      "grid_column": null,
      "grid_gap": null,
      "grid_row": null,
      "grid_template_areas": null,
      "grid_template_columns": null,
      "grid_template_rows": null,
      "height": null,
      "justify_content": null,
      "justify_items": null,
      "left": null,
      "margin": null,
      "max_height": null,
      "max_width": null,
      "min_height": null,
      "min_width": null,
      "object_fit": null,
      "object_position": null,
      "order": null,
      "overflow": null,
      "overflow_x": null,
      "overflow_y": null,
      "padding": null,
      "right": null,
      "top": null,
      "visibility": null,
      "width": null
     }
    },
    "3f43bcf75a4d4631b37a4d2b4b7016a6": {
     "model_module": "@jupyter-widgets/controls",
     "model_name": "HTMLModel",
     "state": {
      "_dom_classes": [],
      "_model_module": "@jupyter-widgets/controls",
      "_model_module_version": "1.5.0",
      "_model_name": "HTMLModel",
      "_view_count": null,
      "_view_module": "@jupyter-widgets/controls",
      "_view_module_version": "1.5.0",
      "_view_name": "HTMLView",
      "description": "",
      "description_tooltip": null,
      "layout": "IPY_MODEL_6f3e1d0333d646fb9c403b6ebaa8723e",
      "placeholder": "​",
      "style": "IPY_MODEL_807202f1fa8f42afb879f97843df2985",
      "value": " 32768/? [00:01&lt;00:00, 24314.71it/s]"
     }
    },
    "3fec850afcde44a0be6e8c6e4b06759f": {
     "model_module": "@jupyter-widgets/controls",
     "model_name": "ProgressStyleModel",
     "state": {
      "_model_module": "@jupyter-widgets/controls",
      "_model_module_version": "1.5.0",
      "_model_name": "ProgressStyleModel",
      "_view_count": null,
      "_view_module": "@jupyter-widgets/base",
      "_view_module_version": "1.2.0",
      "_view_name": "StyleView",
      "bar_color": null,
      "description_width": "initial"
     }
    },
    "452b1f7dba874e17a189237a882ff1ee": {
     "model_module": "@jupyter-widgets/controls",
     "model_name": "HBoxModel",
     "state": {
      "_dom_classes": [],
      "_model_module": "@jupyter-widgets/controls",
      "_model_module_version": "1.5.0",
      "_model_name": "HBoxModel",
      "_view_count": null,
      "_view_module": "@jupyter-widgets/controls",
      "_view_module_version": "1.5.0",
      "_view_name": "HBoxView",
      "box_style": "",
      "children": [
       "IPY_MODEL_17d7fa81cff74bd19b4f57f6ebfc87f0",
       "IPY_MODEL_91372ca4456747079bb1bbd552ee7400"
      ],
      "layout": "IPY_MODEL_cff0a764bdea4572b4b5aa4ca3cc6609"
     }
    },
    "458e9c05e6644b8daf2a7758b502fffe": {
     "model_module": "@jupyter-widgets/base",
     "model_name": "LayoutModel",
     "state": {
      "_model_module": "@jupyter-widgets/base",
      "_model_module_version": "1.2.0",
      "_model_name": "LayoutModel",
      "_view_count": null,
      "_view_module": "@jupyter-widgets/base",
      "_view_module_version": "1.2.0",
      "_view_name": "LayoutView",
      "align_content": null,
      "align_items": null,
      "align_self": null,
      "border": null,
      "bottom": null,
      "display": null,
      "flex": null,
      "flex_flow": null,
      "grid_area": null,
      "grid_auto_columns": null,
      "grid_auto_flow": null,
      "grid_auto_rows": null,
      "grid_column": null,
      "grid_gap": null,
      "grid_row": null,
      "grid_template_areas": null,
      "grid_template_columns": null,
      "grid_template_rows": null,
      "height": null,
      "justify_content": null,
      "justify_items": null,
      "left": null,
      "margin": null,
      "max_height": null,
      "max_width": null,
      "min_height": null,
      "min_width": null,
      "object_fit": null,
      "object_position": null,
      "order": null,
      "overflow": null,
      "overflow_x": null,
      "overflow_y": null,
      "padding": null,
      "right": null,
      "top": null,
      "visibility": null,
      "width": null
     }
    },
    "4893df12c09a4f39b2881ef10292d0e4": {
     "model_module": "@jupyter-widgets/base",
     "model_name": "LayoutModel",
     "state": {
      "_model_module": "@jupyter-widgets/base",
      "_model_module_version": "1.2.0",
      "_model_name": "LayoutModel",
      "_view_count": null,
      "_view_module": "@jupyter-widgets/base",
      "_view_module_version": "1.2.0",
      "_view_name": "LayoutView",
      "align_content": null,
      "align_items": null,
      "align_self": null,
      "border": null,
      "bottom": null,
      "display": null,
      "flex": null,
      "flex_flow": null,
      "grid_area": null,
      "grid_auto_columns": null,
      "grid_auto_flow": null,
      "grid_auto_rows": null,
      "grid_column": null,
      "grid_gap": null,
      "grid_row": null,
      "grid_template_areas": null,
      "grid_template_columns": null,
      "grid_template_rows": null,
      "height": null,
      "justify_content": null,
      "justify_items": null,
      "left": null,
      "margin": null,
      "max_height": null,
      "max_width": null,
      "min_height": null,
      "min_width": null,
      "object_fit": null,
      "object_position": null,
      "order": null,
      "overflow": null,
      "overflow_x": null,
      "overflow_y": null,
      "padding": null,
      "right": null,
      "top": null,
      "visibility": null,
      "width": null
     }
    },
    "5bdb38d8864b477c8647c1ada09b3f30": {
     "model_module": "@jupyter-widgets/base",
     "model_name": "LayoutModel",
     "state": {
      "_model_module": "@jupyter-widgets/base",
      "_model_module_version": "1.2.0",
      "_model_name": "LayoutModel",
      "_view_count": null,
      "_view_module": "@jupyter-widgets/base",
      "_view_module_version": "1.2.0",
      "_view_name": "LayoutView",
      "align_content": null,
      "align_items": null,
      "align_self": null,
      "border": null,
      "bottom": null,
      "display": null,
      "flex": null,
      "flex_flow": null,
      "grid_area": null,
      "grid_auto_columns": null,
      "grid_auto_flow": null,
      "grid_auto_rows": null,
      "grid_column": null,
      "grid_gap": null,
      "grid_row": null,
      "grid_template_areas": null,
      "grid_template_columns": null,
      "grid_template_rows": null,
      "height": null,
      "justify_content": null,
      "justify_items": null,
      "left": null,
      "margin": null,
      "max_height": null,
      "max_width": null,
      "min_height": null,
      "min_width": null,
      "object_fit": null,
      "object_position": null,
      "order": null,
      "overflow": null,
      "overflow_x": null,
      "overflow_y": null,
      "padding": null,
      "right": null,
      "top": null,
      "visibility": null,
      "width": null
     }
    },
    "5ca53a3a773548f48b0a9fcf9218678f": {
     "model_module": "@jupyter-widgets/controls",
     "model_name": "HBoxModel",
     "state": {
      "_dom_classes": [],
      "_model_module": "@jupyter-widgets/controls",
      "_model_module_version": "1.5.0",
      "_model_name": "HBoxModel",
      "_view_count": null,
      "_view_module": "@jupyter-widgets/controls",
      "_view_module_version": "1.5.0",
      "_view_name": "HBoxView",
      "box_style": "",
      "children": [
       "IPY_MODEL_3497bd0394314212bf9e01b7125cbe5a",
       "IPY_MODEL_3f43bcf75a4d4631b37a4d2b4b7016a6"
      ],
      "layout": "IPY_MODEL_642fc1ebd8244dd5981f6e732559a035"
     }
    },
    "642fc1ebd8244dd5981f6e732559a035": {
     "model_module": "@jupyter-widgets/base",
     "model_name": "LayoutModel",
     "state": {
      "_model_module": "@jupyter-widgets/base",
      "_model_module_version": "1.2.0",
      "_model_name": "LayoutModel",
      "_view_count": null,
      "_view_module": "@jupyter-widgets/base",
      "_view_module_version": "1.2.0",
      "_view_name": "LayoutView",
      "align_content": null,
      "align_items": null,
      "align_self": null,
      "border": null,
      "bottom": null,
      "display": null,
      "flex": null,
      "flex_flow": null,
      "grid_area": null,
      "grid_auto_columns": null,
      "grid_auto_flow": null,
      "grid_auto_rows": null,
      "grid_column": null,
      "grid_gap": null,
      "grid_row": null,
      "grid_template_areas": null,
      "grid_template_columns": null,
      "grid_template_rows": null,
      "height": null,
      "justify_content": null,
      "justify_items": null,
      "left": null,
      "margin": null,
      "max_height": null,
      "max_width": null,
      "min_height": null,
      "min_width": null,
      "object_fit": null,
      "object_position": null,
      "order": null,
      "overflow": null,
      "overflow_x": null,
      "overflow_y": null,
      "padding": null,
      "right": null,
      "top": null,
      "visibility": null,
      "width": null
     }
    },
    "6f3e1d0333d646fb9c403b6ebaa8723e": {
     "model_module": "@jupyter-widgets/base",
     "model_name": "LayoutModel",
     "state": {
      "_model_module": "@jupyter-widgets/base",
      "_model_module_version": "1.2.0",
      "_model_name": "LayoutModel",
      "_view_count": null,
      "_view_module": "@jupyter-widgets/base",
      "_view_module_version": "1.2.0",
      "_view_name": "LayoutView",
      "align_content": null,
      "align_items": null,
      "align_self": null,
      "border": null,
      "bottom": null,
      "display": null,
      "flex": null,
      "flex_flow": null,
      "grid_area": null,
      "grid_auto_columns": null,
      "grid_auto_flow": null,
      "grid_auto_rows": null,
      "grid_column": null,
      "grid_gap": null,
      "grid_row": null,
      "grid_template_areas": null,
      "grid_template_columns": null,
      "grid_template_rows": null,
      "height": null,
      "justify_content": null,
      "justify_items": null,
      "left": null,
      "margin": null,
      "max_height": null,
      "max_width": null,
      "min_height": null,
      "min_width": null,
      "object_fit": null,
      "object_position": null,
      "order": null,
      "overflow": null,
      "overflow_x": null,
      "overflow_y": null,
      "padding": null,
      "right": null,
      "top": null,
      "visibility": null,
      "width": null
     }
    },
    "807202f1fa8f42afb879f97843df2985": {
     "model_module": "@jupyter-widgets/controls",
     "model_name": "DescriptionStyleModel",
     "state": {
      "_model_module": "@jupyter-widgets/controls",
      "_model_module_version": "1.5.0",
      "_model_name": "DescriptionStyleModel",
      "_view_count": null,
      "_view_module": "@jupyter-widgets/base",
      "_view_module_version": "1.2.0",
      "_view_name": "StyleView",
      "description_width": ""
     }
    },
    "8370545865c8423e8f0b1dde74a0c34e": {
     "model_module": "@jupyter-widgets/controls",
     "model_name": "HTMLModel",
     "state": {
      "_dom_classes": [],
      "_model_module": "@jupyter-widgets/controls",
      "_model_module_version": "1.5.0",
      "_model_name": "HTMLModel",
      "_view_count": null,
      "_view_module": "@jupyter-widgets/controls",
      "_view_module_version": "1.5.0",
      "_view_name": "HTMLView",
      "description": "",
      "description_tooltip": null,
      "layout": "IPY_MODEL_360c44a676dc44b38665297e9e58981b",
      "placeholder": "​",
      "style": "IPY_MODEL_9311288fccd7428998535508ef120956",
      "value": " 1654784/? [00:01&lt;00:00, 1529720.37it/s]"
     }
    },
    "91372ca4456747079bb1bbd552ee7400": {
     "model_module": "@jupyter-widgets/controls",
     "model_name": "HTMLModel",
     "state": {
      "_dom_classes": [],
      "_model_module": "@jupyter-widgets/controls",
      "_model_module_version": "1.5.0",
      "_model_name": "HTMLModel",
      "_view_count": null,
      "_view_module": "@jupyter-widgets/controls",
      "_view_module_version": "1.5.0",
      "_view_name": "HTMLView",
      "description": "",
      "description_tooltip": null,
      "layout": "IPY_MODEL_918e6fe0dcad47f6a923a3283dd2c440",
      "placeholder": "​",
      "style": "IPY_MODEL_b74e385b7920416a9267fdc81f34d770",
      "value": " 8192/? [00:00&lt;00:00, 21685.98it/s]"
     }
    },
    "918e6fe0dcad47f6a923a3283dd2c440": {
     "model_module": "@jupyter-widgets/base",
     "model_name": "LayoutModel",
     "state": {
      "_model_module": "@jupyter-widgets/base",
      "_model_module_version": "1.2.0",
      "_model_name": "LayoutModel",
      "_view_count": null,
      "_view_module": "@jupyter-widgets/base",
      "_view_module_version": "1.2.0",
      "_view_name": "LayoutView",
      "align_content": null,
      "align_items": null,
      "align_self": null,
      "border": null,
      "bottom": null,
      "display": null,
      "flex": null,
      "flex_flow": null,
      "grid_area": null,
      "grid_auto_columns": null,
      "grid_auto_flow": null,
      "grid_auto_rows": null,
      "grid_column": null,
      "grid_gap": null,
      "grid_row": null,
      "grid_template_areas": null,
      "grid_template_columns": null,
      "grid_template_rows": null,
      "height": null,
      "justify_content": null,
      "justify_items": null,
      "left": null,
      "margin": null,
      "max_height": null,
      "max_width": null,
      "min_height": null,
      "min_width": null,
      "object_fit": null,
      "object_position": null,
      "order": null,
      "overflow": null,
      "overflow_x": null,
      "overflow_y": null,
      "padding": null,
      "right": null,
      "top": null,
      "visibility": null,
      "width": null
     }
    },
    "9311288fccd7428998535508ef120956": {
     "model_module": "@jupyter-widgets/controls",
     "model_name": "DescriptionStyleModel",
     "state": {
      "_model_module": "@jupyter-widgets/controls",
      "_model_module_version": "1.5.0",
      "_model_name": "DescriptionStyleModel",
      "_view_count": null,
      "_view_module": "@jupyter-widgets/base",
      "_view_module_version": "1.2.0",
      "_view_name": "StyleView",
      "description_width": ""
     }
    },
    "9897667559964165957c92603410d4e9": {
     "model_module": "@jupyter-widgets/controls",
     "model_name": "ProgressStyleModel",
     "state": {
      "_model_module": "@jupyter-widgets/controls",
      "_model_module_version": "1.5.0",
      "_model_name": "ProgressStyleModel",
      "_view_count": null,
      "_view_module": "@jupyter-widgets/base",
      "_view_module_version": "1.2.0",
      "_view_name": "StyleView",
      "bar_color": null,
      "description_width": "initial"
     }
    },
    "9c1f7ecb63a6439cb0726fbc622df897": {
     "model_module": "@jupyter-widgets/controls",
     "model_name": "FloatProgressModel",
     "state": {
      "_dom_classes": [],
      "_model_module": "@jupyter-widgets/controls",
      "_model_module_version": "1.5.0",
      "_model_name": "FloatProgressModel",
      "_view_count": null,
      "_view_module": "@jupyter-widgets/controls",
      "_view_module_version": "1.5.0",
      "_view_name": "ProgressView",
      "bar_style": "info",
      "description": "",
      "description_tooltip": null,
      "layout": "IPY_MODEL_a03471a9e51a4b9bbe100bdd0548d80b",
      "max": 1,
      "min": 0,
      "orientation": "horizontal",
      "style": "IPY_MODEL_dee84c5da77b42f6958fb7cac303b964",
      "value": 1
     }
    },
    "a03471a9e51a4b9bbe100bdd0548d80b": {
     "model_module": "@jupyter-widgets/base",
     "model_name": "LayoutModel",
     "state": {
      "_model_module": "@jupyter-widgets/base",
      "_model_module_version": "1.2.0",
      "_model_name": "LayoutModel",
      "_view_count": null,
      "_view_module": "@jupyter-widgets/base",
      "_view_module_version": "1.2.0",
      "_view_name": "LayoutView",
      "align_content": null,
      "align_items": null,
      "align_self": null,
      "border": null,
      "bottom": null,
      "display": null,
      "flex": null,
      "flex_flow": null,
      "grid_area": null,
      "grid_auto_columns": null,
      "grid_auto_flow": null,
      "grid_auto_rows": null,
      "grid_column": null,
      "grid_gap": null,
      "grid_row": null,
      "grid_template_areas": null,
      "grid_template_columns": null,
      "grid_template_rows": null,
      "height": null,
      "justify_content": null,
      "justify_items": null,
      "left": null,
      "margin": null,
      "max_height": null,
      "max_width": null,
      "min_height": null,
      "min_width": null,
      "object_fit": null,
      "object_position": null,
      "order": null,
      "overflow": null,
      "overflow_x": null,
      "overflow_y": null,
      "padding": null,
      "right": null,
      "top": null,
      "visibility": null,
      "width": null
     }
    },
    "aec4f89419bd4f01a4c628e4af2413d9": {
     "model_module": "@jupyter-widgets/controls",
     "model_name": "HBoxModel",
     "state": {
      "_dom_classes": [],
      "_model_module": "@jupyter-widgets/controls",
      "_model_module_version": "1.5.0",
      "_model_name": "HBoxModel",
      "_view_count": null,
      "_view_module": "@jupyter-widgets/controls",
      "_view_module_version": "1.5.0",
      "_view_name": "HBoxView",
      "box_style": "",
      "children": [
       "IPY_MODEL_9c1f7ecb63a6439cb0726fbc622df897",
       "IPY_MODEL_12207ae1a28e441fb5ac010f12ccf2de"
      ],
      "layout": "IPY_MODEL_458e9c05e6644b8daf2a7758b502fffe"
     }
    },
    "b481c656cf7c419baced31fa7329d3de": {
     "model_module": "@jupyter-widgets/controls",
     "model_name": "ProgressStyleModel",
     "state": {
      "_model_module": "@jupyter-widgets/controls",
      "_model_module_version": "1.5.0",
      "_model_name": "ProgressStyleModel",
      "_view_count": null,
      "_view_module": "@jupyter-widgets/base",
      "_view_module_version": "1.2.0",
      "_view_name": "StyleView",
      "bar_color": null,
      "description_width": "initial"
     }
    },
    "b74e385b7920416a9267fdc81f34d770": {
     "model_module": "@jupyter-widgets/controls",
     "model_name": "DescriptionStyleModel",
     "state": {
      "_model_module": "@jupyter-widgets/controls",
      "_model_module_version": "1.5.0",
      "_model_name": "DescriptionStyleModel",
      "_view_count": null,
      "_view_module": "@jupyter-widgets/base",
      "_view_module_version": "1.2.0",
      "_view_name": "StyleView",
      "description_width": ""
     }
    },
    "ba25fee48b48485289a0d47422602a91": {
     "model_module": "@jupyter-widgets/base",
     "model_name": "LayoutModel",
     "state": {
      "_model_module": "@jupyter-widgets/base",
      "_model_module_version": "1.2.0",
      "_model_name": "LayoutModel",
      "_view_count": null,
      "_view_module": "@jupyter-widgets/base",
      "_view_module_version": "1.2.0",
      "_view_name": "LayoutView",
      "align_content": null,
      "align_items": null,
      "align_self": null,
      "border": null,
      "bottom": null,
      "display": null,
      "flex": null,
      "flex_flow": null,
      "grid_area": null,
      "grid_auto_columns": null,
      "grid_auto_flow": null,
      "grid_auto_rows": null,
      "grid_column": null,
      "grid_gap": null,
      "grid_row": null,
      "grid_template_areas": null,
      "grid_template_columns": null,
      "grid_template_rows": null,
      "height": null,
      "justify_content": null,
      "justify_items": null,
      "left": null,
      "margin": null,
      "max_height": null,
      "max_width": null,
      "min_height": null,
      "min_width": null,
      "object_fit": null,
      "object_position": null,
      "order": null,
      "overflow": null,
      "overflow_x": null,
      "overflow_y": null,
      "padding": null,
      "right": null,
      "top": null,
      "visibility": null,
      "width": null
     }
    },
    "cff0a764bdea4572b4b5aa4ca3cc6609": {
     "model_module": "@jupyter-widgets/base",
     "model_name": "LayoutModel",
     "state": {
      "_model_module": "@jupyter-widgets/base",
      "_model_module_version": "1.2.0",
      "_model_name": "LayoutModel",
      "_view_count": null,
      "_view_module": "@jupyter-widgets/base",
      "_view_module_version": "1.2.0",
      "_view_name": "LayoutView",
      "align_content": null,
      "align_items": null,
      "align_self": null,
      "border": null,
      "bottom": null,
      "display": null,
      "flex": null,
      "flex_flow": null,
      "grid_area": null,
      "grid_auto_columns": null,
      "grid_auto_flow": null,
      "grid_auto_rows": null,
      "grid_column": null,
      "grid_gap": null,
      "grid_row": null,
      "grid_template_areas": null,
      "grid_template_columns": null,
      "grid_template_rows": null,
      "height": null,
      "justify_content": null,
      "justify_items": null,
      "left": null,
      "margin": null,
      "max_height": null,
      "max_width": null,
      "min_height": null,
      "min_width": null,
      "object_fit": null,
      "object_position": null,
      "order": null,
      "overflow": null,
      "overflow_x": null,
      "overflow_y": null,
      "padding": null,
      "right": null,
      "top": null,
      "visibility": null,
      "width": null
     }
    },
    "ddf2d94e14dc44a5ab1c0d3ec5306eaa": {
     "model_module": "@jupyter-widgets/base",
     "model_name": "LayoutModel",
     "state": {
      "_model_module": "@jupyter-widgets/base",
      "_model_module_version": "1.2.0",
      "_model_name": "LayoutModel",
      "_view_count": null,
      "_view_module": "@jupyter-widgets/base",
      "_view_module_version": "1.2.0",
      "_view_name": "LayoutView",
      "align_content": null,
      "align_items": null,
      "align_self": null,
      "border": null,
      "bottom": null,
      "display": null,
      "flex": null,
      "flex_flow": null,
      "grid_area": null,
      "grid_auto_columns": null,
      "grid_auto_flow": null,
      "grid_auto_rows": null,
      "grid_column": null,
      "grid_gap": null,
      "grid_row": null,
      "grid_template_areas": null,
      "grid_template_columns": null,
      "grid_template_rows": null,
      "height": null,
      "justify_content": null,
      "justify_items": null,
      "left": null,
      "margin": null,
      "max_height": null,
      "max_width": null,
      "min_height": null,
      "min_width": null,
      "object_fit": null,
      "object_position": null,
      "order": null,
      "overflow": null,
      "overflow_x": null,
      "overflow_y": null,
      "padding": null,
      "right": null,
      "top": null,
      "visibility": null,
      "width": null
     }
    },
    "dee84c5da77b42f6958fb7cac303b964": {
     "model_module": "@jupyter-widgets/controls",
     "model_name": "ProgressStyleModel",
     "state": {
      "_model_module": "@jupyter-widgets/controls",
      "_model_module_version": "1.5.0",
      "_model_name": "ProgressStyleModel",
      "_view_count": null,
      "_view_module": "@jupyter-widgets/base",
      "_view_module_version": "1.2.0",
      "_view_name": "StyleView",
      "bar_color": null,
      "description_width": "initial"
     }
    },
    "f64394635408493a9262a71beb6ca5e1": {
     "model_module": "@jupyter-widgets/controls",
     "model_name": "DescriptionStyleModel",
     "state": {
      "_model_module": "@jupyter-widgets/controls",
      "_model_module_version": "1.5.0",
      "_model_name": "DescriptionStyleModel",
      "_view_count": null,
      "_view_module": "@jupyter-widgets/base",
      "_view_module_version": "1.2.0",
      "_view_name": "StyleView",
      "description_width": ""
     }
    }
   }
  }
 },
 "nbformat": 4,
 "nbformat_minor": 1
}
